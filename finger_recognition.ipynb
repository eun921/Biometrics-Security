{
  "nbformat": 4,
  "nbformat_minor": 0,
  "metadata": {
    "colab": {
      "name": "finger_rec_cross_val.ipynb",
      "provenance": [],
      "collapsed_sections": []
    },
    "kernelspec": {
      "name": "python3",
      "display_name": "Python 3"
    },
    "language_info": {
      "name": "python"
    }
  },
  "cells": [
    {
      "cell_type": "markdown",
      "metadata": {
        "id": "KPZC7a7M3KPc"
      },
      "source": [
        "##구글 드라이브 마운트"
      ]
    },
    {
      "cell_type": "code",
      "metadata": {
        "colab": {
          "base_uri": "https://localhost:8080/"
        },
        "id": "Cmt986Z9muLF",
        "outputId": "b9b18b7d-eab3-4217-858a-9931b8953b11"
      },
      "source": [
        "from google.colab import drive\n",
        "drive.mount('/gdrive')"
      ],
      "execution_count": null,
      "outputs": [
        {
          "output_type": "stream",
          "text": [
            "Mounted at /gdrive\n"
          ],
          "name": "stdout"
        }
      ]
    },
    {
      "cell_type": "code",
      "metadata": {
        "id": "fmEYRtL23Rk1"
      },
      "source": [
        "IMAGE_width=72\n",
        "IMAGE_height=72\n",
        "IMAGE_size=(IMAGE_width,IMAGE_height)\n",
        "IMAGE_channels=1"
      ],
      "execution_count": null,
      "outputs": []
    },
    {
      "cell_type": "markdown",
      "metadata": {
        "id": "K17m3Ozd3NRF"
      },
      "source": [
        "## 파일 경로 지정"
      ]
    },
    {
      "cell_type": "code",
      "metadata": {
        "id": "8pnTgWtFnjAO"
      },
      "source": [
        "train_path='/gdrive/My Drive/생체인증보안/지문/fingerprint_train'\n",
        "test_path='/gdrive/My Drive/생체인증보안/지문/fingerprint_test'"
      ],
      "execution_count": null,
      "outputs": []
    },
    {
      "cell_type": "markdown",
      "metadata": {
        "id": "y83heCP_3P-C"
      },
      "source": [
        "## 라이브러리 import"
      ]
    },
    {
      "cell_type": "code",
      "metadata": {
        "id": "Yq09LPmeoJjd"
      },
      "source": [
        "import numpy as np\n",
        "import matplotlib.pyplot as plt\n",
        "import pandas as pd\n",
        "import keras\n",
        "from keras import layers\n",
        "from keras.preprocessing import image\n",
        "from keras.models import Model\n",
        "from sklearn.utils import shuffle\n",
        "from sklearn.model_selection import train_test_split\n",
        "from imgaug import augmenters as iaa\n",
        "import tensorflow as tf\n",
        "import random\n",
        "import glob, os\n",
        "import cv2\n",
        "from PIL import Image"
      ],
      "execution_count": null,
      "outputs": []
    },
    {
      "cell_type": "markdown",
      "metadata": {
        "id": "OMMm829N3Wow"
      },
      "source": [
        "## Augmentation 후 저장"
      ]
    },
    {
      "cell_type": "code",
      "metadata": {
        "id": "0e0Xf7C1spS4"
      },
      "source": [
        "seq = iaa.Sequential([\n",
        "    iaa.GaussianBlur(sigma=(0, 0.5)),\n",
        "    iaa.Affine(\n",
        "        scale={\"x\": (0.9, 1.1), \"y\": (0.9, 1.1)},\n",
        "        translate_percent={\"x\": (-0.1, 0.1), \"y\": (-0.1, 0.1)},\n",
        "        rotate=(-30, 30),\n",
        "        order=[0, 1],\n",
        "        cval=255\n",
        "    )\n",
        "], random_order=True)"
      ],
      "execution_count": null,
      "outputs": []
    },
    {
      "cell_type": "code",
      "metadata": {
        "id": "BUQzQzvL5rzq"
      },
      "source": [
        "#1~8까지 반복\n",
        "%cd '/gdrive/My Drive/생체인증보안/지문/fingerprint_train/1'\n",
        "nowpath='/gdrive/My Drive/생체인증보안/지문/fingerprint_train/1'\n",
        "\n",
        "for filename in os.listdir(nowpath):\n",
        "  img=Image.open(filename)\n",
        "  img=img.convert('L')\n",
        "  img=np.array(img)\n",
        "  n=80\n",
        "  augs=[img]*n\n",
        "  augs=seq.augment_images(augs)\n",
        "\n",
        "  for i in range(n):\n",
        "    img=Image.fromarray(augs[i])\n",
        "    fname=filename+'_'+str(i)\n",
        "    img.save(fname,'bmp')"
      ],
      "execution_count": null,
      "outputs": []
    },
    {
      "cell_type": "markdown",
      "metadata": {
        "id": "IvUXM6uGYCu6"
      },
      "source": [
        "##데이터 불러오기"
      ]
    },
    {
      "cell_type": "code",
      "metadata": {
        "id": "3oTR0GQMTbzd"
      },
      "source": [
        "x_data=[]\n",
        "y_data=[]\n",
        "folder_names=['1','2','3','4','5','6','7','8']\n",
        "\n",
        "for folder_name in folder_names:\n",
        "  file_names = os.listdir('{}/{}'.format(train_path, folder_name))\n",
        "  for file_name in file_names:\n",
        "    file_path='{}/{}/{}'.format(train_path, folder_name, file_name)\n",
        "    image=Image.open(file_path)\n",
        "    image=image.resize((IMAGE_width,IMAGE_height))\n",
        "    np_image=np.asarray(image)\n",
        "    np_image=np_image/256\n",
        "\n",
        "    x_data.append(np_image)\n",
        "    y_data.append(int(folder_name)-1)\n"
      ],
      "execution_count": null,
      "outputs": []
    },
    {
      "cell_type": "code",
      "metadata": {
        "id": "8OBOvhkvJaWa"
      },
      "source": [
        "x_data = np.array(x_data)\n",
        "y_data = np.array(y_data)"
      ],
      "execution_count": null,
      "outputs": []
    },
    {
      "cell_type": "code",
      "metadata": {
        "colab": {
          "base_uri": "https://localhost:8080/"
        },
        "id": "fmTc9Cp44xe1",
        "outputId": "59a7dfd8-6c73-42e1-cf76-f01e5eb3fe81"
      },
      "source": [
        "x_data=x_data.reshape(6480,72,72,1)\n",
        "x_data.shape"
      ],
      "execution_count": null,
      "outputs": [
        {
          "output_type": "execute_result",
          "data": {
            "text/plain": [
              "(6480, 72, 72, 1)"
            ]
          },
          "metadata": {
            "tags": []
          },
          "execution_count": 7
        }
      ]
    },
    {
      "cell_type": "markdown",
      "metadata": {
        "id": "_510slQMYONo"
      },
      "source": [
        "##모델링"
      ]
    },
    {
      "cell_type": "code",
      "metadata": {
        "id": "TIN_s_EnYNKw",
        "colab": {
          "base_uri": "https://localhost:8080/"
        },
        "outputId": "d42dbc03-a589-4dc2-9d3b-6f0635ac7558"
      },
      "source": [
        "import tensorflow as tf\n",
        "from tensorflow.keras.optimizers import Adam\n",
        "\n",
        "model = tf.keras.models.Sequential([\n",
        "  tf.keras.layers.Conv2D(32, kernel_size=(5,5),strides=(1,1),\n",
        "                         padding='same', activation='relu', \n",
        "                         input_shape=(IMAGE_width, IMAGE_height, IMAGE_channels)),\n",
        "  tf.keras.layers.MaxPooling2D(pool_size=(2,2),strides=(2,2)),\n",
        "\n",
        "  tf.keras.layers.Conv2D(64, (3,3), activation='relu',padding='same'),\n",
        "  tf.keras.layers.MaxPooling2D(pool_size=(2,2)),\n",
        "  tf.keras.layers.Dropout(0.25),\n",
        "\n",
        "  tf.keras.layers.Flatten(),\n",
        "  tf.keras.layers.Dense(1000, activation='relu'),\n",
        "  tf.keras.layers.Dropout(0.5),\n",
        "  tf.keras.layers.Dense(8, activation='softmax')\n",
        "])\n",
        "\n",
        "model.compile(optimizer='adam', loss='sparse_categorical_crossentropy', \n",
        "              metrics=[tf.keras.metrics.SparseCategoricalAccuracy()])\n",
        "model.summary()"
      ],
      "execution_count": null,
      "outputs": [
        {
          "output_type": "stream",
          "text": [
            "Model: \"sequential\"\n",
            "_________________________________________________________________\n",
            "Layer (type)                 Output Shape              Param #   \n",
            "=================================================================\n",
            "conv2d (Conv2D)              (None, 72, 72, 32)        832       \n",
            "_________________________________________________________________\n",
            "max_pooling2d (MaxPooling2D) (None, 36, 36, 32)        0         \n",
            "_________________________________________________________________\n",
            "conv2d_1 (Conv2D)            (None, 36, 36, 64)        18496     \n",
            "_________________________________________________________________\n",
            "max_pooling2d_1 (MaxPooling2 (None, 18, 18, 64)        0         \n",
            "_________________________________________________________________\n",
            "dropout (Dropout)            (None, 18, 18, 64)        0         \n",
            "_________________________________________________________________\n",
            "flatten (Flatten)            (None, 20736)             0         \n",
            "_________________________________________________________________\n",
            "dense (Dense)                (None, 1000)              20737000  \n",
            "_________________________________________________________________\n",
            "dropout_1 (Dropout)          (None, 1000)              0         \n",
            "_________________________________________________________________\n",
            "dense_1 (Dense)              (None, 8)                 8008      \n",
            "=================================================================\n",
            "Total params: 20,764,336\n",
            "Trainable params: 20,764,336\n",
            "Non-trainable params: 0\n",
            "_________________________________________________________________\n"
          ],
          "name": "stdout"
        }
      ]
    },
    {
      "cell_type": "markdown",
      "metadata": {
        "id": "GhI3AHrbKjL5"
      },
      "source": [
        "##Callback"
      ]
    },
    {
      "cell_type": "code",
      "metadata": {
        "id": "y1cHdLyAYr2N"
      },
      "source": [
        "from keras.callbacks import EarlyStopping, ReduceLROnPlateau\n",
        "#조기종료\n",
        "earlystop=EarlyStopping(monitor='sparse_categorical_accuracy',patience=10)\n",
        "\n",
        "#학습율 조정\n",
        "learning_rate_reduction=ReduceLROnPlateau(monitor='sparse_categorical_accuracy',\n",
        "                                          patience=2,\n",
        "                                          verbose=1,\n",
        "                                          factor=0.5,\n",
        "                                          min_lr=0.00001)\n",
        "#callback 설정\n",
        "callback=[earlystop,learning_rate_reduction]"
      ],
      "execution_count": null,
      "outputs": []
    },
    {
      "cell_type": "markdown",
      "metadata": {
        "id": "b6q47DX8h3T4"
      },
      "source": [
        "##모델 학습(Cross-Validation)"
      ]
    },
    {
      "cell_type": "code",
      "metadata": {
        "colab": {
          "base_uri": "https://localhost:8080/"
        },
        "id": "ftMVA3cJcZSR",
        "outputId": "5bccb9cd-8b9f-4711-8f95-f85ef8c0b684"
      },
      "source": [
        "from sklearn.model_selection import StratifiedKFold\n",
        "\n",
        "kfold=StratifiedKFold(n_splits=3)\n",
        "cvscores = []\n",
        "\n",
        "for train_idx,val_idx in kfold.split(x_data,y_data):\n",
        "  x_train,x_val=x_data[train_idx],x_data[val_idx]\n",
        "  y_train,y_val=y_data[train_idx],y_data[val_idx]\n",
        "\n",
        "  model.fit(x_train,y_train,epochs=30,batch_size=20,verbose=1,callbacks=callback)\n",
        "  \n",
        "  scores = model.evaluate(x_val, y_val, verbose=1)\n",
        "  print(\"Acc: \",(scores[1]*100))\n",
        "  cvscores.append(scores[1] * 100)"
      ],
      "execution_count": null,
      "outputs": [
        {
          "output_type": "stream",
          "text": [
            "Epoch 1/30\n",
            "216/216 [==============================] - 71s 326ms/step - loss: 5.8532e-04 - sparse_categorical_accuracy: 1.0000\n",
            "Epoch 2/30\n",
            "216/216 [==============================] - 70s 324ms/step - loss: 0.0015 - sparse_categorical_accuracy: 0.9998\n",
            "Epoch 3/30\n",
            "216/216 [==============================] - 70s 323ms/step - loss: 0.0011 - sparse_categorical_accuracy: 1.0000\n",
            "Epoch 4/30\n",
            "216/216 [==============================] - 70s 325ms/step - loss: 8.6864e-04 - sparse_categorical_accuracy: 0.9998\n",
            "Epoch 5/30\n",
            "216/216 [==============================] - 71s 327ms/step - loss: 8.5485e-04 - sparse_categorical_accuracy: 1.0000\n",
            "Epoch 6/30\n",
            "216/216 [==============================] - 71s 328ms/step - loss: 0.0010 - sparse_categorical_accuracy: 1.0000\n",
            "Epoch 7/30\n",
            "216/216 [==============================] - 71s 331ms/step - loss: 0.0012 - sparse_categorical_accuracy: 0.9998\n",
            "Epoch 8/30\n",
            "216/216 [==============================] - 71s 331ms/step - loss: 0.0010 - sparse_categorical_accuracy: 0.9998\n",
            "Epoch 9/30\n",
            "216/216 [==============================] - 71s 330ms/step - loss: 0.0013 - sparse_categorical_accuracy: 0.9998\n",
            "Epoch 10/30\n",
            "216/216 [==============================] - 72s 332ms/step - loss: 9.0262e-04 - sparse_categorical_accuracy: 0.9998\n",
            "Epoch 11/30\n",
            "216/216 [==============================] - 70s 325ms/step - loss: 0.0011 - sparse_categorical_accuracy: 0.9995\n",
            "68/68 [==============================] - 7s 104ms/step - loss: 7.4900e-04 - sparse_categorical_accuracy: 1.0000\n",
            "Acc:  100.0\n",
            "Epoch 1/30\n",
            "216/216 [==============================] - 70s 323ms/step - loss: 0.0038 - sparse_categorical_accuracy: 0.9984\n",
            "Epoch 2/30\n",
            "216/216 [==============================] - 70s 326ms/step - loss: 0.0058 - sparse_categorical_accuracy: 0.9986\n",
            "Epoch 3/30\n",
            "216/216 [==============================] - 72s 334ms/step - loss: 0.0027 - sparse_categorical_accuracy: 0.9991\n",
            "Epoch 4/30\n",
            "216/216 [==============================] - 70s 325ms/step - loss: 0.0029 - sparse_categorical_accuracy: 0.9991\n",
            "Epoch 5/30\n",
            "216/216 [==============================] - 71s 330ms/step - loss: 0.0045 - sparse_categorical_accuracy: 0.9991\n",
            "Epoch 6/30\n",
            "216/216 [==============================] - 70s 326ms/step - loss: 0.0037 - sparse_categorical_accuracy: 0.9991\n",
            "Epoch 7/30\n",
            "216/216 [==============================] - 70s 323ms/step - loss: 0.0038 - sparse_categorical_accuracy: 0.9988\n",
            "Epoch 8/30\n",
            "216/216 [==============================] - 70s 324ms/step - loss: 0.0035 - sparse_categorical_accuracy: 0.9993\n",
            "Epoch 9/30\n",
            "216/216 [==============================] - 73s 337ms/step - loss: 0.0040 - sparse_categorical_accuracy: 0.9986\n",
            "Epoch 10/30\n",
            "216/216 [==============================] - 72s 335ms/step - loss: 0.0030 - sparse_categorical_accuracy: 0.9993\n",
            "Epoch 11/30\n",
            "216/216 [==============================] - 71s 331ms/step - loss: 0.0029 - sparse_categorical_accuracy: 0.9991\n",
            "Epoch 12/30\n",
            "216/216 [==============================] - 71s 328ms/step - loss: 0.0044 - sparse_categorical_accuracy: 0.9986\n",
            "Epoch 13/30\n",
            "216/216 [==============================] - 71s 328ms/step - loss: 0.0028 - sparse_categorical_accuracy: 0.9993\n",
            "Epoch 14/30\n",
            "216/216 [==============================] - 70s 326ms/step - loss: 0.0036 - sparse_categorical_accuracy: 0.9991\n",
            "Epoch 15/30\n",
            "216/216 [==============================] - 70s 325ms/step - loss: 0.0030 - sparse_categorical_accuracy: 0.9991\n",
            "Epoch 16/30\n",
            "216/216 [==============================] - 70s 324ms/step - loss: 0.0032 - sparse_categorical_accuracy: 0.9993\n",
            "Epoch 17/30\n",
            "216/216 [==============================] - 70s 324ms/step - loss: 0.0015 - sparse_categorical_accuracy: 1.0000\n",
            "Epoch 18/30\n",
            "216/216 [==============================] - 70s 324ms/step - loss: 0.0024 - sparse_categorical_accuracy: 0.9995\n",
            "Epoch 19/30\n",
            "216/216 [==============================] - 70s 323ms/step - loss: 0.0031 - sparse_categorical_accuracy: 0.9988\n",
            "Epoch 20/30\n",
            "216/216 [==============================] - 70s 324ms/step - loss: 0.0037 - sparse_categorical_accuracy: 0.9993\n",
            "Epoch 21/30\n",
            "216/216 [==============================] - 70s 323ms/step - loss: 0.0020 - sparse_categorical_accuracy: 1.0000\n",
            "Epoch 22/30\n",
            "216/216 [==============================] - 70s 324ms/step - loss: 0.0023 - sparse_categorical_accuracy: 0.9995\n",
            "Epoch 23/30\n",
            "216/216 [==============================] - 70s 324ms/step - loss: 0.0027 - sparse_categorical_accuracy: 0.9993\n",
            "Epoch 24/30\n",
            "216/216 [==============================] - 70s 324ms/step - loss: 0.0027 - sparse_categorical_accuracy: 0.9995\n",
            "Epoch 25/30\n",
            "216/216 [==============================] - 70s 324ms/step - loss: 0.0029 - sparse_categorical_accuracy: 0.9988\n",
            "Epoch 26/30\n",
            "216/216 [==============================] - 69s 320ms/step - loss: 0.0026 - sparse_categorical_accuracy: 0.9993\n",
            "Epoch 27/30\n",
            "216/216 [==============================] - 69s 317ms/step - loss: 0.0031 - sparse_categorical_accuracy: 0.9988\n",
            "68/68 [==============================] - 7s 102ms/step - loss: 2.7978e-05 - sparse_categorical_accuracy: 1.0000\n",
            "Acc:  100.0\n",
            "Epoch 1/30\n",
            "216/216 [==============================] - 69s 319ms/step - loss: 0.0041 - sparse_categorical_accuracy: 0.9986\n",
            "Epoch 2/30\n",
            "216/216 [==============================] - 69s 319ms/step - loss: 0.0028 - sparse_categorical_accuracy: 0.9993\n",
            "Epoch 3/30\n",
            "216/216 [==============================] - 69s 320ms/step - loss: 0.0029 - sparse_categorical_accuracy: 0.9993\n",
            "Epoch 4/30\n",
            "216/216 [==============================] - 69s 319ms/step - loss: 0.0031 - sparse_categorical_accuracy: 0.9988\n",
            "Epoch 5/30\n",
            "216/216 [==============================] - 69s 320ms/step - loss: 0.0027 - sparse_categorical_accuracy: 0.9993\n",
            "Epoch 6/30\n",
            "216/216 [==============================] - 69s 318ms/step - loss: 0.0020 - sparse_categorical_accuracy: 0.9998\n",
            "Epoch 7/30\n",
            "216/216 [==============================] - 69s 318ms/step - loss: 0.0032 - sparse_categorical_accuracy: 0.9993\n",
            "Epoch 8/30\n",
            "216/216 [==============================] - 69s 318ms/step - loss: 0.0017 - sparse_categorical_accuracy: 1.0000\n",
            "Epoch 9/30\n",
            "216/216 [==============================] - 69s 321ms/step - loss: 0.0017 - sparse_categorical_accuracy: 0.9998\n",
            "Epoch 10/30\n",
            "216/216 [==============================] - 71s 329ms/step - loss: 0.0042 - sparse_categorical_accuracy: 0.9986\n",
            "Epoch 11/30\n",
            "216/216 [==============================] - 70s 324ms/step - loss: 0.0035 - sparse_categorical_accuracy: 0.9991\n",
            "Epoch 12/30\n",
            "216/216 [==============================] - 70s 323ms/step - loss: 0.0018 - sparse_categorical_accuracy: 0.9998\n",
            "Epoch 13/30\n",
            "216/216 [==============================] - 69s 321ms/step - loss: 0.0020 - sparse_categorical_accuracy: 0.9998\n",
            "Epoch 14/30\n",
            "216/216 [==============================] - 69s 319ms/step - loss: 0.0017 - sparse_categorical_accuracy: 0.9998\n",
            "Epoch 15/30\n",
            "216/216 [==============================] - 69s 320ms/step - loss: 0.0037 - sparse_categorical_accuracy: 0.9991\n",
            "Epoch 16/30\n",
            "216/216 [==============================] - 69s 321ms/step - loss: 0.0022 - sparse_categorical_accuracy: 0.9988\n",
            "Epoch 17/30\n",
            "216/216 [==============================] - 69s 319ms/step - loss: 0.0020 - sparse_categorical_accuracy: 0.9995\n",
            "Epoch 18/30\n",
            "216/216 [==============================] - 69s 319ms/step - loss: 0.0041 - sparse_categorical_accuracy: 0.9988\n",
            "68/68 [==============================] - 7s 104ms/step - loss: 1.1326e-05 - sparse_categorical_accuracy: 1.0000\n",
            "Acc:  100.0\n"
          ],
          "name": "stdout"
        }
      ]
    },
    {
      "cell_type": "code",
      "metadata": {
        "colab": {
          "base_uri": "https://localhost:8080/"
        },
        "id": "TAm72RjD9eO3",
        "outputId": "422c8291-bbeb-44fc-97ba-2ff0b2c2e29a"
      },
      "source": [
        "print(\"평균 Accuracy: %.2f%% (+/- %.2f%%)\" % (np.mean(cvscores), np.std(cvscores)))"
      ],
      "execution_count": null,
      "outputs": [
        {
          "output_type": "stream",
          "text": [
            "평균 Accuracy: 100.00% (+/- 0.00%)\n"
          ],
          "name": "stdout"
        }
      ]
    },
    {
      "cell_type": "markdown",
      "metadata": {
        "id": "rFVgKFTEiUAZ"
      },
      "source": [
        "##모델 성능 지표</br>\n",
        "학습 데이터 중 split한 validation 데이터 사용"
      ]
    },
    {
      "cell_type": "code",
      "metadata": {
        "colab": {
          "base_uri": "https://localhost:8080/"
        },
        "id": "e3j6koqfjpDb",
        "outputId": "55255c72-5e99-411a-8c5b-c9dd4cfdf65b"
      },
      "source": [
        "y_val_pred=model.predict(x_val)\n",
        "y_val_pred"
      ],
      "execution_count": null,
      "outputs": [
        {
          "output_type": "execute_result",
          "data": {
            "text/plain": [
              "array([[1.0000000e+00, 6.6024852e-10, 1.2501187e-18, ..., 3.0993702e-15,\n",
              "        1.2012045e-19, 3.1174573e-20],\n",
              "       [1.0000000e+00, 7.4570777e-10, 2.3471680e-17, ..., 1.6066247e-13,\n",
              "        1.1927265e-17, 4.0163758e-17],\n",
              "       [9.9999988e-01, 8.4333998e-08, 1.6313076e-11, ..., 7.5400247e-15,\n",
              "        6.3779987e-10, 6.2816376e-16],\n",
              "       ...,\n",
              "       [2.0817796e-15, 7.0318287e-12, 4.2005957e-23, ..., 5.7909000e-13,\n",
              "        3.0747454e-08, 1.0000000e+00],\n",
              "       [9.7130831e-11, 1.3791428e-12, 1.3908549e-21, ..., 9.0744598e-14,\n",
              "        7.1945756e-08, 9.9999988e-01],\n",
              "       [9.8605935e-10, 2.1622205e-07, 2.1062787e-15, ..., 9.5671266e-12,\n",
              "        2.0567038e-04, 9.9979407e-01]], dtype=float32)"
            ]
          },
          "metadata": {
            "tags": []
          },
          "execution_count": 38
        }
      ]
    },
    {
      "cell_type": "code",
      "metadata": {
        "colab": {
          "base_uri": "https://localhost:8080/"
        },
        "id": "3Qr2pydMj1tN",
        "outputId": "2eca0627-39ce-4244-ee11-2537b094ceb3"
      },
      "source": [
        "print(y_val)"
      ],
      "execution_count": null,
      "outputs": [
        {
          "output_type": "stream",
          "text": [
            "[0 0 0 ... 7 7 7]\n"
          ],
          "name": "stdout"
        }
      ]
    },
    {
      "cell_type": "code",
      "metadata": {
        "id": "978M7_Ibj_-I"
      },
      "source": [
        "y_pred_val=[]\n",
        "for i in range(len(y_val)):\n",
        "  n=np.argmax(y_val_pred[i])\n",
        "  y_pred_val.append(n)"
      ],
      "execution_count": null,
      "outputs": []
    },
    {
      "cell_type": "code",
      "metadata": {
        "colab": {
          "base_uri": "https://localhost:8080/"
        },
        "id": "iw8t6gfskh78",
        "outputId": "f6ab4258-e4d1-46eb-b221-0e268af659ca"
      },
      "source": [
        "print(y_pred_val)"
      ],
      "execution_count": null,
      "outputs": [
        {
          "output_type": "stream",
          "text": [
            "[0, 0, 0, 0, 0, 0, 0, 0, 0, 0, 0, 0, 0, 0, 0, 0, 0, 0, 0, 0, 0, 0, 0, 0, 0, 0, 0, 0, 0, 0, 0, 0, 0, 0, 0, 0, 0, 0, 0, 0, 0, 0, 0, 0, 0, 0, 0, 0, 0, 0, 0, 0, 0, 0, 0, 0, 0, 0, 0, 0, 0, 0, 0, 0, 0, 0, 0, 0, 0, 0, 0, 0, 0, 0, 0, 0, 0, 0, 0, 0, 0, 0, 0, 0, 0, 0, 0, 0, 0, 0, 0, 0, 0, 0, 0, 0, 0, 0, 0, 0, 0, 0, 0, 0, 0, 0, 0, 0, 0, 0, 0, 0, 0, 0, 0, 0, 0, 0, 0, 0, 0, 0, 0, 0, 0, 0, 0, 0, 0, 0, 0, 0, 0, 0, 0, 0, 0, 0, 0, 0, 0, 0, 0, 0, 0, 0, 0, 0, 0, 0, 0, 0, 0, 0, 0, 0, 0, 0, 0, 0, 0, 0, 0, 0, 0, 0, 0, 0, 0, 0, 0, 0, 0, 0, 0, 0, 0, 0, 0, 0, 0, 0, 0, 0, 0, 0, 0, 0, 0, 0, 0, 0, 0, 0, 0, 0, 0, 0, 0, 0, 0, 0, 0, 0, 0, 0, 0, 0, 0, 0, 0, 0, 0, 0, 0, 0, 0, 0, 0, 0, 0, 0, 0, 0, 0, 0, 0, 0, 0, 0, 0, 0, 0, 0, 0, 0, 0, 0, 0, 0, 0, 0, 0, 0, 0, 0, 0, 0, 0, 0, 0, 0, 0, 0, 0, 0, 0, 0, 0, 0, 0, 0, 0, 0, 0, 0, 0, 0, 0, 0, 1, 1, 1, 1, 1, 1, 1, 1, 1, 1, 1, 1, 1, 1, 1, 1, 1, 1, 1, 1, 1, 1, 1, 1, 1, 1, 1, 1, 1, 1, 1, 1, 1, 1, 1, 1, 1, 1, 1, 1, 1, 1, 1, 1, 1, 1, 1, 1, 1, 1, 1, 1, 1, 1, 1, 1, 1, 1, 1, 1, 1, 1, 1, 1, 1, 1, 1, 1, 1, 1, 1, 1, 1, 1, 1, 1, 1, 1, 1, 1, 1, 1, 1, 1, 1, 1, 1, 1, 1, 1, 1, 1, 1, 1, 1, 1, 1, 1, 1, 1, 1, 1, 1, 1, 1, 1, 1, 1, 1, 1, 1, 1, 1, 1, 1, 1, 1, 1, 1, 1, 1, 1, 1, 1, 1, 1, 1, 1, 1, 1, 1, 1, 1, 1, 1, 1, 1, 1, 1, 1, 1, 1, 1, 1, 1, 1, 1, 1, 1, 1, 1, 1, 1, 1, 1, 1, 1, 1, 1, 1, 1, 1, 1, 1, 1, 1, 1, 1, 1, 1, 1, 1, 1, 1, 1, 1, 1, 1, 1, 1, 1, 1, 1, 1, 1, 1, 1, 1, 1, 1, 1, 1, 1, 1, 1, 1, 1, 1, 1, 1, 1, 1, 1, 1, 1, 1, 1, 1, 1, 1, 1, 1, 1, 1, 1, 1, 1, 1, 1, 1, 1, 1, 1, 1, 1, 1, 1, 1, 1, 1, 1, 1, 1, 1, 1, 1, 1, 1, 1, 1, 1, 1, 1, 1, 1, 1, 1, 1, 1, 1, 1, 1, 1, 1, 1, 1, 1, 1, 1, 1, 1, 1, 1, 1, 1, 1, 1, 1, 1, 1, 2, 2, 2, 2, 2, 2, 2, 2, 2, 2, 2, 2, 2, 2, 2, 2, 2, 2, 2, 2, 2, 2, 2, 2, 2, 2, 2, 2, 2, 2, 2, 2, 2, 2, 2, 2, 2, 2, 2, 2, 2, 2, 2, 2, 2, 2, 2, 2, 2, 2, 2, 2, 2, 2, 2, 2, 2, 2, 2, 2, 2, 2, 2, 2, 2, 2, 2, 2, 2, 2, 2, 2, 2, 2, 2, 2, 2, 2, 2, 2, 2, 2, 2, 2, 2, 2, 2, 2, 2, 2, 2, 2, 2, 2, 2, 2, 2, 2, 2, 2, 2, 2, 2, 2, 2, 2, 2, 2, 2, 2, 2, 2, 2, 2, 2, 2, 2, 2, 2, 2, 2, 2, 2, 2, 2, 2, 2, 2, 2, 2, 2, 2, 2, 2, 2, 2, 2, 2, 2, 2, 2, 2, 2, 2, 2, 2, 2, 2, 2, 2, 2, 2, 2, 2, 2, 2, 2, 2, 2, 2, 2, 2, 2, 2, 2, 2, 2, 2, 2, 2, 2, 2, 2, 2, 2, 2, 2, 2, 2, 2, 2, 2, 2, 2, 2, 2, 2, 2, 2, 2, 2, 2, 2, 2, 2, 2, 2, 2, 2, 2, 2, 2, 2, 2, 2, 2, 2, 2, 2, 2, 2, 2, 2, 2, 2, 2, 2, 2, 2, 2, 2, 2, 2, 2, 2, 2, 2, 2, 2, 2, 2, 2, 2, 2, 2, 2, 2, 2, 2, 2, 2, 2, 2, 2, 2, 2, 2, 2, 2, 2, 2, 2, 2, 2, 2, 2, 2, 2, 2, 2, 2, 2, 2, 2, 2, 2, 2, 2, 2, 2, 3, 3, 3, 3, 3, 3, 3, 3, 3, 3, 3, 3, 3, 3, 3, 3, 3, 3, 3, 3, 3, 3, 3, 3, 3, 3, 3, 3, 3, 3, 3, 3, 3, 3, 3, 3, 3, 3, 3, 3, 3, 3, 3, 3, 3, 3, 3, 3, 3, 3, 3, 3, 3, 3, 3, 3, 3, 3, 3, 3, 3, 3, 3, 3, 3, 3, 3, 3, 3, 3, 3, 3, 3, 3, 3, 3, 3, 3, 3, 3, 3, 3, 3, 3, 3, 3, 3, 3, 3, 3, 3, 3, 3, 3, 3, 3, 3, 3, 3, 3, 3, 3, 3, 3, 3, 3, 3, 3, 3, 3, 3, 3, 3, 3, 3, 3, 3, 3, 3, 3, 3, 3, 3, 3, 3, 3, 3, 3, 3, 3, 3, 3, 3, 3, 3, 3, 3, 3, 3, 3, 3, 3, 3, 3, 3, 3, 3, 3, 3, 3, 3, 3, 3, 3, 3, 3, 3, 3, 3, 3, 3, 3, 3, 3, 3, 3, 3, 3, 3, 3, 3, 3, 3, 3, 3, 3, 3, 3, 3, 3, 3, 3, 3, 3, 3, 3, 3, 3, 3, 3, 3, 3, 3, 3, 3, 3, 3, 3, 3, 3, 3, 3, 3, 3, 3, 3, 3, 3, 3, 3, 3, 3, 3, 3, 3, 3, 3, 3, 3, 3, 3, 3, 3, 3, 3, 3, 3, 3, 3, 3, 3, 3, 3, 3, 3, 3, 3, 3, 3, 3, 3, 3, 3, 3, 3, 3, 3, 3, 3, 3, 3, 3, 3, 3, 3, 3, 3, 3, 3, 3, 3, 3, 3, 3, 3, 3, 3, 3, 3, 3, 4, 4, 4, 4, 4, 4, 4, 4, 4, 4, 4, 4, 4, 4, 4, 4, 4, 4, 4, 4, 4, 4, 4, 4, 4, 4, 4, 4, 4, 4, 4, 4, 4, 4, 4, 4, 4, 4, 4, 4, 4, 4, 4, 4, 4, 4, 4, 4, 4, 4, 4, 4, 4, 4, 4, 4, 4, 4, 4, 4, 4, 4, 4, 4, 4, 4, 4, 4, 4, 4, 4, 4, 4, 4, 4, 4, 4, 4, 4, 4, 4, 4, 4, 4, 4, 4, 4, 4, 4, 4, 4, 4, 4, 4, 4, 4, 4, 4, 4, 4, 4, 4, 4, 4, 4, 4, 4, 4, 4, 4, 4, 4, 4, 4, 4, 4, 4, 4, 4, 4, 4, 4, 4, 4, 4, 4, 4, 4, 4, 4, 4, 4, 4, 4, 4, 4, 4, 4, 4, 4, 4, 4, 4, 4, 4, 4, 4, 4, 4, 4, 4, 4, 4, 4, 4, 4, 4, 4, 4, 4, 4, 4, 4, 4, 4, 4, 4, 4, 4, 4, 4, 4, 4, 4, 4, 4, 4, 4, 4, 4, 4, 4, 4, 4, 4, 4, 4, 4, 4, 4, 4, 4, 4, 4, 4, 4, 4, 4, 4, 4, 4, 4, 4, 4, 4, 4, 4, 4, 4, 4, 4, 4, 4, 4, 4, 4, 4, 4, 4, 4, 4, 4, 4, 4, 4, 4, 4, 4, 4, 4, 4, 4, 4, 4, 4, 4, 4, 4, 4, 4, 4, 4, 4, 4, 4, 4, 4, 4, 4, 4, 4, 4, 4, 4, 4, 4, 4, 4, 4, 4, 4, 4, 4, 4, 4, 4, 4, 4, 4, 4, 5, 5, 5, 5, 5, 5, 5, 5, 5, 5, 5, 5, 5, 5, 5, 5, 5, 5, 5, 5, 5, 5, 5, 5, 5, 5, 5, 5, 5, 5, 5, 5, 5, 5, 5, 5, 5, 5, 5, 5, 5, 5, 5, 5, 5, 5, 5, 5, 5, 5, 5, 5, 5, 5, 5, 5, 5, 5, 5, 5, 5, 5, 5, 5, 5, 5, 5, 5, 5, 5, 5, 5, 5, 5, 5, 5, 5, 5, 5, 5, 5, 5, 5, 5, 5, 5, 5, 5, 5, 5, 5, 5, 5, 5, 5, 5, 5, 5, 5, 5, 5, 5, 5, 5, 5, 5, 5, 5, 5, 5, 5, 5, 5, 5, 5, 5, 5, 5, 5, 5, 5, 5, 5, 5, 5, 5, 5, 5, 5, 5, 5, 5, 5, 5, 5, 5, 5, 5, 5, 5, 5, 5, 5, 5, 5, 5, 5, 5, 5, 5, 5, 5, 5, 5, 5, 5, 5, 5, 5, 5, 5, 5, 5, 5, 5, 5, 5, 5, 5, 5, 5, 5, 5, 5, 5, 5, 5, 5, 5, 5, 5, 5, 5, 5, 5, 5, 5, 5, 5, 5, 5, 5, 5, 5, 5, 5, 5, 5, 5, 5, 5, 5, 5, 5, 5, 5, 5, 5, 5, 5, 5, 5, 5, 5, 5, 5, 5, 5, 5, 5, 5, 5, 5, 5, 5, 5, 5, 5, 5, 5, 5, 5, 5, 5, 5, 5, 5, 5, 5, 5, 5, 5, 5, 5, 5, 5, 5, 5, 5, 5, 5, 5, 5, 5, 5, 5, 5, 5, 5, 5, 5, 5, 5, 5, 5, 5, 5, 5, 5, 5, 6, 6, 6, 6, 6, 6, 6, 6, 6, 6, 6, 6, 6, 6, 6, 6, 6, 6, 6, 6, 6, 6, 6, 6, 6, 6, 6, 6, 6, 6, 6, 6, 6, 6, 6, 6, 6, 6, 6, 6, 6, 6, 6, 6, 6, 6, 6, 6, 6, 6, 6, 6, 6, 6, 6, 6, 6, 6, 6, 6, 6, 6, 6, 6, 6, 6, 6, 6, 6, 6, 6, 6, 6, 6, 6, 6, 6, 6, 6, 6, 6, 6, 6, 6, 6, 6, 6, 6, 6, 6, 6, 6, 6, 6, 6, 6, 6, 6, 6, 6, 6, 6, 6, 6, 6, 6, 6, 6, 6, 6, 6, 6, 6, 6, 6, 6, 6, 6, 6, 6, 6, 6, 6, 6, 6, 6, 6, 6, 6, 6, 6, 6, 6, 6, 6, 6, 6, 6, 6, 6, 6, 6, 6, 6, 6, 6, 6, 6, 6, 6, 6, 6, 6, 6, 6, 6, 6, 6, 6, 6, 6, 6, 6, 6, 6, 6, 6, 6, 6, 6, 6, 6, 6, 6, 6, 6, 6, 6, 6, 6, 6, 6, 6, 6, 6, 6, 6, 6, 6, 6, 6, 6, 6, 6, 6, 6, 6, 6, 6, 6, 6, 6, 6, 6, 6, 6, 6, 6, 6, 6, 6, 6, 6, 6, 6, 6, 6, 6, 6, 6, 6, 6, 6, 6, 6, 6, 6, 6, 6, 6, 6, 6, 6, 6, 6, 6, 6, 6, 6, 6, 6, 6, 6, 6, 6, 6, 6, 6, 6, 6, 6, 6, 6, 6, 6, 6, 6, 6, 6, 6, 6, 6, 6, 6, 6, 6, 6, 6, 6, 6, 7, 7, 7, 7, 7, 7, 7, 7, 7, 7, 7, 7, 7, 7, 7, 7, 7, 7, 7, 7, 7, 7, 7, 7, 7, 7, 7, 7, 7, 7, 7, 7, 7, 7, 7, 7, 7, 7, 7, 7, 7, 7, 7, 7, 7, 7, 7, 7, 7, 7, 7, 7, 7, 7, 7, 7, 7, 7, 7, 7, 7, 7, 7, 7, 7, 7, 7, 7, 7, 7, 7, 7, 7, 7, 7, 7, 7, 7, 7, 7, 7, 7, 7, 7, 7, 7, 7, 7, 7, 7, 7, 7, 7, 7, 7, 7, 7, 7, 7, 7, 7, 7, 7, 7, 7, 7, 7, 7, 7, 7, 7, 7, 7, 7, 7, 7, 7, 7, 7, 7, 7, 7, 7, 7, 7, 7, 7, 7, 7, 7, 7, 7, 7, 7, 7, 7, 7, 7, 7, 7, 7, 7, 7, 7, 7, 7, 7, 7, 7, 7, 7, 7, 7, 7, 7, 7, 7, 7, 7, 7, 7, 7, 7, 7, 7, 7, 7, 7, 7, 7, 7, 7, 7, 7, 7, 7, 7, 7, 7, 7, 7, 7, 7, 7, 7, 7, 7, 7, 7, 7, 7, 7, 7, 7, 7, 7, 7, 7, 7, 7, 7, 7, 7, 7, 7, 7, 7, 7, 7, 7, 7, 7, 7, 7, 7, 7, 7, 7, 7, 7, 7, 7, 7, 7, 7, 7, 7, 7, 7, 7, 7, 7, 7, 7, 7, 7, 7, 7, 7, 7, 7, 7, 7, 7, 7, 7, 7, 7, 7, 7, 7, 7, 7, 7, 7, 7, 7, 7, 7, 7, 7, 7, 7, 7, 7, 7, 7, 7, 7, 7]\n"
          ],
          "name": "stdout"
        }
      ]
    },
    {
      "cell_type": "code",
      "metadata": {
        "colab": {
          "base_uri": "https://localhost:8080/"
        },
        "id": "t5Cxt51mmD82",
        "outputId": "7820298b-c2f8-416b-fcf8-2cf81c3b1440"
      },
      "source": [
        "from sklearn.metrics import f1_score\n",
        "from sklearn.metrics import accuracy_score, precision_score, recall_score\n",
        "\n",
        "accuracy = accuracy_score(y_val,y_pred_val)                         \n",
        "precision = precision_score(y_val,y_pred_val,average='micro') \n",
        "recall = recall_score(y_val,y_pred_val, average='micro')      \n",
        "f1 = f1_score(y_val,y_pred_val, average='micro')\n",
        "\n",
        "print('정확도: {0:.6f}, 정밀도: {1:.6f}, 재현율: {2:.6f}, F1-score: {3:.6f}'.\n",
        "      format(accuracy, precision, recall, f1))"
      ],
      "execution_count": null,
      "outputs": [
        {
          "output_type": "stream",
          "text": [
            "정확도: 1.000000, 정밀도: 1.000000, 재현율: 1.000000, F1-score: 1.000000\n"
          ],
          "name": "stdout"
        }
      ]
    },
    {
      "cell_type": "markdown",
      "metadata": {
        "id": "lMI4irhTPTTs"
      },
      "source": [
        "##테스트"
      ]
    },
    {
      "cell_type": "code",
      "metadata": {
        "colab": {
          "base_uri": "https://localhost:8080/"
        },
        "id": "-fp4OZQsPqXm",
        "outputId": "b33e2d15-d516-4dca-cc79-9e6f232cceb0"
      },
      "source": [
        "%cd '/gdrive/My Drive/생체인증보안/지문/fingerprint_test'\n",
        "\n",
        "x_test=[]\n",
        "y_test=[]\n",
        "for filename in os.listdir(test_path):\n",
        "  img=Image.open(filename)\n",
        "  print(filename)\n",
        "  img=img.resize((IMAGE_width,IMAGE_height))\n",
        "  np_image=np.asarray(img)\n",
        "  np_image=np_image/256\n",
        "\n",
        "  x_test.append(np_image)\n",
        "\n",
        "x_test = np.array(x_test)"
      ],
      "execution_count": null,
      "outputs": [
        {
          "output_type": "stream",
          "text": [
            "/gdrive/My Drive/생체인증보안/지문/fingerprint_test\n",
            "1.bmp\n",
            "41.bmp\n",
            "79.bmp\n",
            "64.bmp\n",
            "69.bmp\n",
            "19.bmp\n",
            "43.bmp\n",
            "26.bmp\n",
            "67.bmp\n",
            "36.bmp\n",
            "25.bmp\n",
            "31.bmp\n",
            "17.bmp\n",
            "24.bmp\n",
            "27.bmp\n",
            "60.bmp\n",
            "45.bmp\n",
            "77.bmp\n",
            "29.bmp\n",
            "50.bmp\n",
            "7.bmp\n",
            "59.bmp\n",
            "9.bmp\n",
            "18.bmp\n",
            "49.bmp\n",
            "30.bmp\n",
            "58.bmp\n",
            "28.bmp\n",
            "13.bmp\n",
            "33.bmp\n",
            "16.bmp\n",
            "74.bmp\n",
            "4.bmp\n",
            "11.bmp\n",
            "21.bmp\n",
            "40.bmp\n",
            "8.bmp\n",
            "65.bmp\n",
            "44.bmp\n",
            "71.bmp\n",
            "5.bmp\n",
            "76.bmp\n",
            "78.bmp\n",
            "15.bmp\n",
            "2.bmp\n",
            "22.bmp\n",
            "61.bmp\n",
            "62.bmp\n",
            "32.bmp\n",
            "37.bmp\n",
            "75.bmp\n",
            "46.bmp\n",
            "57.bmp\n",
            "3.bmp\n",
            "34.bmp\n",
            "23.bmp\n",
            "14.bmp\n",
            "12.bmp\n",
            "6.bmp\n",
            "56.bmp\n",
            "55.bmp\n",
            "10.bmp\n",
            "72.bmp\n",
            "48.bmp\n",
            "20.bmp\n",
            "68.bmp\n",
            "47.bmp\n",
            "66.bmp\n",
            "38.bmp\n",
            "73.bmp\n",
            "42.bmp\n",
            "52.bmp\n",
            "54.bmp\n",
            "51.bmp\n",
            "80.bmp\n",
            "39.bmp\n",
            "53.bmp\n",
            "70.bmp\n",
            "63.bmp\n",
            "35.bmp\n"
          ],
          "name": "stdout"
        }
      ]
    },
    {
      "cell_type": "code",
      "metadata": {
        "colab": {
          "base_uri": "https://localhost:8080/"
        },
        "id": "yGj1c49DViO7",
        "outputId": "fa7ab22c-82f7-4ae4-8a3b-d69ed89d5632"
      },
      "source": [
        "x_test=x_test.reshape(80,72,72,1)\n",
        "x_test.shape"
      ],
      "execution_count": null,
      "outputs": [
        {
          "output_type": "execute_result",
          "data": {
            "text/plain": [
              "(80, 72, 72, 1)"
            ]
          },
          "metadata": {
            "tags": []
          },
          "execution_count": 44
        }
      ]
    },
    {
      "cell_type": "code",
      "metadata": {
        "id": "4bQxPLtoSZHc"
      },
      "source": [
        "y_pred=model.predict(x_test)\n",
        "print(y_pred)"
      ],
      "execution_count": null,
      "outputs": []
    },
    {
      "cell_type": "code",
      "metadata": {
        "id": "vHkrydMDfUmL",
        "colab": {
          "base_uri": "https://localhost:8080/"
        },
        "outputId": "cbd23706-69fb-4a78-d864-616f0ed97079"
      },
      "source": [
        "for i in range(80):\n",
        "  n=np.argmax(y_pred[i])+1\n",
        "  print(n)"
      ],
      "execution_count": null,
      "outputs": [
        {
          "output_type": "stream",
          "text": [
            "7\n",
            "7\n",
            "7\n",
            "7\n",
            "7\n",
            "8\n",
            "8\n",
            "7\n",
            "7\n",
            "7\n",
            "8\n",
            "8\n",
            "8\n",
            "8\n",
            "8\n",
            "8\n",
            "8\n",
            "8\n",
            "8\n",
            "8\n",
            "5\n",
            "5\n",
            "5\n",
            "5\n",
            "5\n",
            "5\n",
            "5\n",
            "5\n",
            "5\n",
            "5\n",
            "6\n",
            "6\n",
            "6\n",
            "6\n",
            "6\n",
            "6\n",
            "6\n",
            "6\n",
            "6\n",
            "6\n",
            "1\n",
            "1\n",
            "1\n",
            "1\n",
            "1\n",
            "1\n",
            "1\n",
            "1\n",
            "1\n",
            "1\n",
            "2\n",
            "2\n",
            "2\n",
            "2\n",
            "2\n",
            "2\n",
            "2\n",
            "2\n",
            "2\n",
            "2\n",
            "3\n",
            "3\n",
            "3\n",
            "3\n",
            "3\n",
            "3\n",
            "3\n",
            "3\n",
            "3\n",
            "3\n",
            "4\n",
            "4\n",
            "4\n",
            "4\n",
            "4\n",
            "4\n",
            "4\n",
            "4\n",
            "4\n",
            "4\n"
          ],
          "name": "stdout"
        }
      ]
    },
    {
      "cell_type": "code",
      "metadata": {
        "id": "yqyUm9yaBHce"
      },
      "source": [
        ""
      ],
      "execution_count": null,
      "outputs": []
    }
  ]
}